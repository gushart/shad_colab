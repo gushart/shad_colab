{
  "cells": [
    {
      "cell_type": "markdown",
      "metadata": {
        "id": "bUXCtwXWOET9"
      },
      "source": [
        "# Week 04 seminar: Finetuning."
      ]
    },
    {
      "cell_type": "code",
      "execution_count": null,
      "metadata": {
        "tags": [],
        "id": "39PbDVIFOET-"
      },
      "outputs": [],
      "source": [
        "import os\n",
        "import time\n",
        "import requests\n",
        "from tqdm.auto import trange, tqdm\n",
        "from copy import deepcopy\n",
        "from collections import defaultdict\n",
        "\n",
        "import numpy as np\n",
        "import pandas as pd\n",
        "\n",
        "# charts and display libs\n",
        "from PIL import Image, ImageFile\n",
        "import matplotlib.pyplot as plt\n",
        "%matplotlib inline\n",
        "from IPython.display import display, HTML\n",
        "\n",
        "# pytorch\n",
        "import torch\n",
        "import torchvision\n",
        "from torchvision import transforms\n",
        "device = torch.device('cuda' if torch.cuda.is_available() else 'cpu')\n",
        "\n",
        "# Ensure that output below says `device=device(type='cuda')` - you will need CUDA for faster model runs\n",
        "# If in Colab, we recommend that you go to Runtime -> Change Runtime Type -> GPU\n",
        "\n",
        "print(f\"{torch.__version__=}, {torchvision.__version__=}, {device=}, {torch.get_num_threads()=}\")"
      ]
    },
    {
      "cell_type": "markdown",
      "metadata": {
        "id": "YXXgdRz_OET-"
      },
      "source": [
        "## TorchVision\n",
        "\n",
        "[Torchvision](https://pytorch.org/vision/main/index.html) - part of PyTorch library with convenient tools and data for deep learning in visual domain.\n",
        "- contains a number of popular vision [datasets](https://pytorch.org/vision/stable/datasets.html)\n",
        "- preprocessing [tools](https://pytorch.org/vision/stable/transforms.html)\n",
        "- and most importantly, [pre-trained models](https://pytorch.org/vision/main/models.html)."
      ]
    },
    {
      "cell_type": "markdown",
      "metadata": {
        "id": "b1-hK-M8OET-"
      },
      "source": [
        "# Datasets: Imagenet\n",
        "\n",
        "![imagenet_tiles](https://i.imgur.com/n4QIrzF.jpeg)\n",
        "\n",
        "Today we're going to use and fine-tune CNN based on weights pre-trained on ImageNet.\n",
        "\n",
        "What is Imagenet?\n",
        "- large size image classification dataset.\n",
        "    - ImageNet-1K contains 1,281,167 training images, 50,000 validation images and 100,000 test images.\n",
        "    - Full original dataset (ImageNet-21k) contains 14,197,122 images divided into 21,841 classes\n",
        "    - Resolution varies, average resolution: 469x387 pixels\n",
        "- built pre-2010 by [Fei-Fei Li](https://en.wikipedia.org/wiki/Fei-Fei_Li) at Princeton\n",
        "- made very popular by ImageNet Large Scale Visual Recognition Challenge (ILSVRC). See AlexNet moment: [chart](https://www.researchgate.net/figure/ImageNet-Competition-Results-50_fig1_329975404), [wiki](https://en.wikipedia.org/wiki/AlexNet), [paper](https://proceedings.neurips.cc/paper_files/paper/2012/file/c399862d3b9d6b76c8436e924a68c45b-Paper.pdf)\n",
        "-  still relevant; [accuracy history 2013 to date](https://paperswithcode.com/sota/image-classification-on-imagenet)\n",
        "- More about Imagenet: http://image-net.org/,  https://en.wikipedia.org/wiki/ImageNet"
      ]
    },
    {
      "cell_type": "code",
      "execution_count": null,
      "metadata": {
        "tags": [],
        "id": "jrxPJ9CeOET_"
      },
      "outputs": [],
      "source": [
        "# loading Imagenet class labels for interpreting classification results\n",
        "LABELS_URL = \"https://s3.amazonaws.com/deep-learning-models/image-models/imagenet_class_index.json\"\n",
        "imagenet_labels = {int(k):v[1] for k, v in requests.get(LABELS_URL).json().items()}\n",
        "print(len(imagenet_labels), '\\n', list(imagenet_labels.items())[:5])"
      ]
    },
    {
      "cell_type": "markdown",
      "metadata": {
        "tags": [],
        "id": "uSBm4aOkOET_"
      },
      "source": [
        "# Pretrained models: Resnet\n",
        "\n",
        "\n",
        "Torchvision models classification models with benchmarks may be viewed [here.](https://pytorch.org/vision/main/models.html#classification)\n",
        "\n",
        "For this seminar we're going to use Pytorch implementation of popular Resnet model."
      ]
    },
    {
      "cell_type": "code",
      "execution_count": null,
      "metadata": {
        "scrolled": true,
        "tags": [],
        "id": "ETDe5xNXOET_"
      },
      "outputs": [],
      "source": [
        "# loading pretrained Resnet-18 model\n",
        "from torchvision.models import resnet18, ResNet18_Weights\n",
        "\n",
        "model = resnet18(weights=ResNet18_Weights.DEFAULT) # load model with best available weights\n",
        "model = model.to(device)  # move the model to GPU if available\n",
        "model.train(False);        # set the model to evaluation mode"
      ]
    },
    {
      "cell_type": "code",
      "execution_count": null,
      "metadata": {
        "tags": [],
        "id": "8Y7y8czqOET_"
      },
      "outputs": [],
      "source": [
        "# view the model structure. Familiar layers are combined into 4 blocks\n",
        "# note the last LINEAR layer named 'fc' that converts embeddings of size 512 into logits for 1000 Imagenet classes\n",
        "model"
      ]
    },
    {
      "cell_type": "markdown",
      "metadata": {
        "tags": [],
        "id": "tRT5bq8COEUA"
      },
      "source": [
        "### testing the pretrained model 1\n",
        "test output dimensions with dummy inputs<br>\n",
        "note that model inputs have to be 4D: (batch_size, color_channes, height, width)<br>\n",
        "output is a 2D tensor of logits (batch_size, number_of_classes)"
      ]
    },
    {
      "cell_type": "code",
      "execution_count": null,
      "metadata": {
        "tags": [],
        "id": "8RpfmU1-OEUA"
      },
      "outputs": [],
      "source": [
        "dummy_x = torch.randn(5, 3, 224, 224, device=device)  # dummy batch of 5 'images' sized 224x224 with 3 channels, created on GPU\n",
        "result = model(dummy_x)\n",
        "assert result.shape == (5, 1000)   # output is a 2D tensor of logits (batch_size, number_of_classes)"
      ]
    },
    {
      "cell_type": "markdown",
      "metadata": {
        "tags": [],
        "id": "Q2ecQCooOEUA"
      },
      "source": [
        "### testing the pretrained model 2. Predict class probabilities."
      ]
    },
    {
      "cell_type": "code",
      "execution_count": null,
      "metadata": {
        "tags": [],
        "id": "mL6zfCYeOEUB"
      },
      "outputs": [],
      "source": [
        "# loading image with PIL library\n",
        "img = Image.open(requests.get('https://github.com/yandexdataschool/Practical_DL/blob/fall24/week04_finetuning/sample_images/albatross.jpg?raw=true', stream=True).raw)\n",
        "# img = Image.open('sample_images/albatross.jpg')  # alternative source\n",
        "print(img.size)\n",
        "img"
      ]
    },
    {
      "cell_type": "code",
      "execution_count": null,
      "metadata": {
        "tags": [],
        "id": "kQGYBnUvOEUC"
      },
      "outputs": [],
      "source": [
        "# converting PIL image to torch.Tensor - detailed process\n",
        "img_torch = torch.tensor(np.array(img), device=device)  # convert PIL image to np.array, then to torch.Tensor,\n",
        "img_torch = img_torch.permute(2,0,1)  # reorder channels to move color to the front position, to match pytorch conventions\n",
        "img_torch = img_torch / img_torch.max()  # scale to 0..1\n",
        "\n",
        "img_torch.shape, img_torch.device, img_torch.min().item(), img_torch.max().item()  # verify shape, device and range"
      ]
    },
    {
      "cell_type": "code",
      "execution_count": null,
      "metadata": {
        "tags": [],
        "id": "MLjsM8f_OEUC"
      },
      "outputs": [],
      "source": [
        "# converting PIL image to torch.Tensor - easy process\n",
        "# PIL image to torch.Tensor can be converted with torchvision.transforms, equivalent to the above code (more details below)\n",
        "img_torch = transforms.ToTensor()(img)\n",
        "img_torch.shape, img_torch.max(), img_torch.min()"
      ]
    },
    {
      "cell_type": "code",
      "execution_count": null,
      "metadata": {
        "tags": [],
        "id": "OgqCBrwiOEUC"
      },
      "outputs": [],
      "source": [
        "# Predicting image class with pretrained model\n",
        "\n",
        "\n",
        "def predict_img(img, model, top_n=5):\n",
        "    if isinstance(img, str):\n",
        "        Image.open(requests.get(url, stream=True).raw).convert('RGB')  # for loading images from url\n",
        "\n",
        "    img_torch = transforms.ToTensor()(img)  # to torch.Tensor, reorder color channels, s|cale to 0..1\n",
        "    img_torch = transforms.Resize((224, 224))(img_torch)      # another useful transform to resize images\n",
        "    img_torch = img_torch.unsqueeze(0)                        # add batch dimension (remember that model needs 4D input)\n",
        "    img_torch = img_torch.to(device)                          # moving the tensor to device (presumably cuda, in initialized above)\n",
        "    prediction = model(img_torch)                             # obtain prediction logits from the model\n",
        "    probs = torch.nn.functional.softmax(prediction, dim=-1)   # convert logits into probabilities\n",
        "    probs = probs.cpu().data.numpy()                          # convert CUDA tensor to numpy array\n",
        "\n",
        "    top_ix = probs.ravel().argsort()[-1: -top_n - 1: -1]      # get indices of most probable classes\n",
        "    print (f'top-{top_n} classes:')                           # look up class label\n",
        "    for l in top_ix:\n",
        "        print (f\"{probs.ravel()[l]:>6.2%}  {imagenet_labels[l].split(',')[0]}\")\n",
        "\n",
        "\n",
        "predict_img(img, model)"
      ]
    },
    {
      "cell_type": "markdown",
      "metadata": {
        "id": "Q-TmmSuxOEUC"
      },
      "source": [
        "### testing the pretrained model 3: Images from unknown classes\n",
        "\n",
        "Play with imahes from these and other (yours) URLS. Note how object outsize of imagenet classes confuse the net. Low probabilities in top classes are indications of model's low confidence."
      ]
    },
    {
      "cell_type": "code",
      "execution_count": null,
      "metadata": {
        "tags": [],
        "id": "fZ4cMakhOEUC"
      },
      "outputs": [],
      "source": [
        "url= 'https://i.ebayimg.com/images/g/yDwAAOSwquxgTmcv/s-l1200.jpg'                    # modern version\n",
        "\n",
        "# <TRY ANY OTHER IMAGES YOU LIKE>\n",
        "\n",
        "web_img = Image.open(requests.get(url, stream=True).raw).convert('RGB')\n",
        "print(web_img.size)\n",
        "display(transforms.Resize((224, 224))(web_img))\n",
        "predict_img(web_img, model)"
      ]
    },
    {
      "cell_type": "markdown",
      "metadata": {
        "id": "qd2-songOEUC"
      },
      "source": [
        "## More Torchvision tools: Transforms and transform pipelines¶\n",
        "\n",
        "You already used `transforms.ToTensor` and `transforms.Resize` above. There are many more at [Torchvision](https://pytorch.org/vision/stable/transforms.html). For easier application they are typically combined into pipelines. See examples below.\n",
        "\n",
        "For more advanced tranforms (faster and compatible with tasks requiring mask or reference points), check out [Albumentations library](https://albumentations.ai/)."
      ]
    },
    {
      "cell_type": "code",
      "execution_count": null,
      "metadata": {
        "tags": [],
        "id": "5w8DhcXkOEUC"
      },
      "outputs": [],
      "source": [
        "# Typical transform pipeline for test loop\n",
        "transform_pipeline = transforms.Compose([\n",
        "    transforms.ToTensor(),\n",
        "    transforms.Resize((224, 224)),\n",
        "    transforms.Normalize([0.485, 0.456, 0.406], [0.229, 0.224, 0.225])  # Optional: normalize imaged according to ImageNet standards\n",
        "])\n",
        "\n",
        "img = Image.open(requests.get('https://github.com/yandexdataschool/Practical_DL/blob/fall24/week04_finetuning/sample_images/albatross.jpg?raw=true', stream=True).raw)\n",
        "# img = Image.open('sample_images/albatross.jpg')  # alt link\n",
        "img_torch = transform_pipeline(img)\n",
        "\n",
        "print(type(img_torch), img_torch.shape)"
      ]
    },
    {
      "cell_type": "code",
      "execution_count": null,
      "metadata": {
        "tags": [],
        "id": "PEFlckTvOEUC"
      },
      "outputs": [],
      "source": [
        "img = Image.open(requests.get('https://github.com/yandexdataschool/Practical_DL/blob/fall24/week04_finetuning/sample_images/albatross.jpg?raw=true', stream=True).raw)\n",
        "# img = Image.open('sample_images/albatross.jpg')  # alternative source\n",
        "\n",
        "# Demo of augmentations for train pipeline\n",
        "\n",
        "transform_pipeline_2 = transforms.Compose([\n",
        "    transforms.RandomCrop((224, 224)),\n",
        "    transforms.ColorJitter(brightness=0.2, contrast=0.2, saturation=0.2, hue=0.2),\n",
        "    transforms.RandomApply([\n",
        "        transforms.RandomAffine(degrees=30, translate=(0.2, 0.2)),\n",
        "        transforms.RandomRotation(30),\n",
        "        transforms.GaussianBlur(kernel_size=25),\n",
        "    ], p=0.5),\n",
        "    transforms.RandomHorizontalFlip(),\n",
        "    # transforms.RandomVerticalFlip(),  # not always applicable\n",
        "    transforms.ToTensor(),\n",
        "    # transforms.Normalize(mean=[0.485, 0.456, 0.406], std=[0.229, 0.224, 0.225]),  # Optional: normalizes imaged according to ImageNet standards\n",
        "])\n",
        "\n",
        "fig, axs = plt.subplots(1, 8, figsize=(16, 4))\n",
        "for i, ax in enumerate(axs.ravel()):\n",
        "    img_2 = transform_pipeline_2(img)\n",
        "    ax.imshow(img_2.permute(1, 2, 0))\n",
        "plt.tight_layout()"
      ]
    },
    {
      "cell_type": "markdown",
      "metadata": {
        "id": "2Pe4y3B5OEUC"
      },
      "source": [
        "# Classifying with CNN model's latent features\n",
        "Pretrained image classification models learn extract image features that are useful in classification tasks. We need to get those features from outputs of the model's penultimate level and pass them to classifier.\n",
        "While this is not exactly a proper finetuning, this method is quick, rather robust and allows to classify unknown classes using quite small training sets (tens / hundreds of images)."
      ]
    },
    {
      "cell_type": "markdown",
      "metadata": {
        "id": "HRids4czOEUC"
      },
      "source": [
        "### How to get features\n",
        "features = activations before the very last Linear layer of the model (named `fc` in Resnet - check the model structure above.\n",
        "\n",
        "During good old days in Torch7 you could access any intermediate output from the sequential model. Nowadays it's a bit more difficult though it's not Tensorflow where you need to compile another model for that. Here we're going to redefine the last layer... yes, to do nothing."
      ]
    },
    {
      "cell_type": "code",
      "execution_count": null,
      "metadata": {
        "tags": [],
        "id": "a41wSIL3OEUC"
      },
      "outputs": [],
      "source": [
        "# Create model clone with altered last layer\n",
        "embedding_model = deepcopy(model)  # start with a clone of the original model\n",
        "embedding_model.fc = torch.nn.Identity() # instead of classifier head - do nothing\n",
        "embedding_model = embedding_model.to(device)  # move to CUDA if available"
      ]
    },
    {
      "cell_type": "code",
      "execution_count": null,
      "metadata": {
        "tags": [],
        "id": "XaazYSv1OEUC"
      },
      "outputs": [],
      "source": [
        "img = Image.open(requests.get('https://github.com/yandexdataschool/Practical_DL/blob/fall24/week04_finetuning/sample_images/albatross.jpg?raw=true', stream=True).raw)\n",
        "# img = Image.open('sample_images/albatross.jpg') # alt link\n",
        "img_torch = transforms.ToTensor()(img).unsqueeze(0).to(device)\n",
        "out = embedding_model(img_torch).cpu().data.numpy()\n",
        "assert out.shape == (1, 512), \"your output for single image should have shape (1, 512)\""
      ]
    },
    {
      "cell_type": "markdown",
      "metadata": {
        "tags": [],
        "id": "gqVfh8cqOEUC"
      },
      "source": [
        "# Starter problem: cat-dog classification\n",
        "Your next task is to use a pre-trained model to distinguish between cats and dogs.\n",
        "- viewed as imposible in 2000\n",
        "- popular data science challenge problem in 2010\n",
        "- warm-up task for students in 2020s <br>\n",
        "![cat_meme](https://i.imgur.com/u1bubWv.jpeg)"
      ]
    },
    {
      "cell_type": "code",
      "execution_count": null,
      "metadata": {
        "tags": [],
        "id": "e8vorimgOEUD"
      },
      "outputs": [],
      "source": [
        "# download the dataset\n",
        "!wget https://storage.yandexcloud.net/yandex-research/courses/dogs_vs_cats_1000.zip -O dogs_vs_cats_1000.zip"
      ]
    },
    {
      "cell_type": "code",
      "execution_count": null,
      "metadata": {
        "tags": [],
        "id": "lQ8q85gFOEUE"
      },
      "outputs": [],
      "source": [
        "!unzip -qn dogs_vs_cats_1000.zip\n",
        "!ls dogs_vs_cats_1000 | wc -l  # should be 2000 images extracted"
      ]
    },
    {
      "cell_type": "code",
      "execution_count": null,
      "metadata": {
        "tags": [],
        "id": "j7TKQ976OEUE"
      },
      "outputs": [],
      "source": [
        "# Sample pets images\n",
        "import random\n",
        "fig, axs = plt.subplots(1, 8, figsize=(16, 2))\n",
        "\n",
        "fnames = [fn for fn in os.listdir('dogs_vs_cats_1000')]\n",
        "for ax, fname in zip(axs.ravel(), random.choices(fnames, k=8)):\n",
        "    img_ = Image.open(os.path.join('dogs_vs_cats_1000', fname))\n",
        "    ax.imshow(img_)\n",
        "    ax.set_title(f\"{fname}\")\n",
        "    ax.tick_params(left = False,labelleft = False , labelbottom = False, bottom = False)\n",
        "plt.tight_layout()"
      ]
    },
    {
      "cell_type": "code",
      "execution_count": null,
      "metadata": {
        "tags": [],
        "id": "D5XkMiF3OEUE"
      },
      "outputs": [],
      "source": [
        "# Here we generate image embeddings using the activations before the last layer\n",
        "# use batches to accelerate the process\n",
        "\n",
        "X_ = []  # storage for batches embeddings\n",
        "Y_ = []  # storage for batches labels\n",
        "\n",
        "filenames = [fname for fname in os.listdir('dogs_vs_cats_1000')]\n",
        "batch_size = 64\n",
        "x_batch_list = []  # to accumulate batch components\n",
        "\n",
        "with torch.no_grad():\n",
        "    for i, fname in enumerate(tqdm(filenames)):\n",
        "        img = Image.open(os.path.join(\"dogs_vs_cats_1000\", fname))\n",
        "        img_torch = transforms.ToTensor()(img.resize((224, 224)))\n",
        "        x_batch_list.append(img_torch)\n",
        "        Y_.append(1 if fname.startswith(\"cat\") else 0)\n",
        "\n",
        "        if len(x_batch_list) == batch_size or i >= len(filenames) - 1:\n",
        "            x_batch = torch.stack(x_batch_list)\n",
        "            # use your embedding model to produce embeddings vectors, save results on CPU\n",
        "            embeddings = embedding_model(x_batch.to(device)).cpu()\n",
        "\n",
        "            assert isinstance(embeddings,  torch.Tensor) and embeddings.device.type == \"cpu\"\n",
        "            assert embeddings.ndim == 2 and embeddings.shape[1] == 512\n",
        "            X_.append(embeddings)\n",
        "            x_batch_list = []"
      ]
    },
    {
      "cell_type": "code",
      "execution_count": null,
      "metadata": {
        "tags": [],
        "id": "Km7lx_igOEUE"
      },
      "outputs": [],
      "source": [
        "X = np.concatenate(X_, axis = 0)  # concatenate all batches' embeddings into single 2D array.\n",
        "Y = np.array(Y_[:len(X)])  # convert labels into np array; crop if we ended prematurely\n",
        "\n",
        "print(X.shape, Y.shape, np.mean(Y))\n",
        "\n",
        "assert X.ndim == 2 and X.shape[1] == 512\n",
        "assert X.shape[0] == len(filenames)\n",
        "assert Y.ndim == 1 and Y.shape[0] == X.shape[0]\n",
        "assert 0.49 <= np.mean(Y) <= 0.51"
      ]
    },
    {
      "cell_type": "markdown",
      "metadata": {
        "id": "97ob7UBiOEUE"
      },
      "source": [
        "### Using model embeddings as classifier features\n",
        "\n",
        "Train sklearn model, evaluate validation accuracy (should be >90%)"
      ]
    },
    {
      "cell_type": "code",
      "execution_count": null,
      "metadata": {
        "id": "ZoQCpw-DOEUE"
      },
      "outputs": [],
      "source": [
        "from sklearn.ensemble import RandomForestClassifier, ExtraTreesClassifier, GradientBoostingClassifier, AdaBoostClassifier\n",
        "from sklearn.linear_model import LogisticRegression, RidgeClassifier\n",
        "from sklearn.svm import SVC\n",
        "from sklearn.tree import DecisionTreeClassifier\n",
        "from sklearn.neighbors import KNeighborsClassifier"
      ]
    },
    {
      "cell_type": "markdown",
      "metadata": {
        "tags": [],
        "id": "ifsIK2ZoOEUE"
      },
      "source": [
        "__Task 1 (2 points): train the model and evaluate its accuracy on a hold-out set.__\n",
        "- write the code for cats/dogs classification using the embeddings created above. Use any classification tools that you learned. Reach at least 95% accuracy. __(1 point)__.  Try few different tools if accuracy is not high enough. <br>\n",
        "(You may choose any classifier algorithm as long as it gets above 95% accuracy. To get the max grade here, you need to tune main hyperparameters of your chosen algorithm (e.g. k for KNN, tree depth, logreg C) depending on how many data points you have. )\n",
        "- try this excercise with much smaller training set. Find the lowest train set size at which you can still predict cat/dog class with 95% accuracy __(1 point)__ <br>\n",
        "(note: exact threshold may depend on algorightm choice and train/test split. Show your effort in  experimenting with low train set sizes.)"
      ]
    },
    {
      "cell_type": "code",
      "execution_count": null,
      "metadata": {
        "tags": [],
        "id": "EogpxSxjOEUE"
      },
      "outputs": [],
      "source": [
        "%%time\n",
        "from sklearn.model_selection import train_test_split\n",
        "X_train, X_test, Y_train, Y_test = train_test_split(X, Y, test_size=0.1)\n",
        "\n",
        "model_ = LogisticRegression()\n",
        "model_.fit(X_train, Y_train)\n",
        "\n",
        "Y_pred = model_.predict(X_test)\n",
        "\n",
        "\n",
        "print(f\"accuracy = {(Y_pred == Y_test).sum() / Y_pred.shape[0]:.1%}\")"
      ]
    },
    {
      "cell_type": "markdown",
      "metadata": {
        "tags": [],
        "id": "TZLjEs95OEUF"
      },
      "source": [
        "## Torchvision Datasets\n",
        "- Built-in datasets https://pytorch.org/vision/stable/datasets.html#built-in-datasets\n",
        "\n",
        "- Datasets and Dataloaders at `torch.utils.data`: https://pytorch.org/tutorials/beginner/basics/data_tutorial.html\n",
        "\n",
        "- Torchvision classes for custom datasets  https://pytorch.org/vision/stable/datasets.html#base-classes-for-custom-datasets"
      ]
    },
    {
      "cell_type": "markdown",
      "metadata": {
        "id": "XgIG0ff9OEUF"
      },
      "source": [
        "# Problem 2: Clasification of cat/dog breeds using Oxford pets dataset\n",
        "\n",
        "The next problem is to classify specific cat / dog breeds from popular Oxford pets dataset. It is conveniently provided by Pytorch so loading and using it is very easy.\n",
        "\n",
        "Dataset home page: https://www.robots.ox.ac.uk/~vgg/data/pets/\n",
        "\n",
        "Available from Pytorch: https://pytorch.org/vision/stable/generated/torchvision.datasets.OxfordIIITPet.html#torchvision.datasets.OxfordIIITPet\n",
        "\n"
      ]
    },
    {
      "cell_type": "code",
      "execution_count": null,
      "metadata": {
        "tags": [],
        "id": "J5TbPX1POEUF"
      },
      "outputs": [],
      "source": [
        "# Loading train and test subsets of the dataset\n",
        "# using simple transform for both slices\n",
        "\n",
        "test_transform = transforms.Compose([\n",
        "    transforms.ToTensor(),\n",
        "    transforms.Resize((224, 224), antialias=True),\n",
        "    transforms.Normalize([0.485, 0.456, 0.406], [0.229, 0.224, 0.225])\n",
        "])\n",
        "\n",
        "train_dataset = torchvision.datasets.OxfordIIITPet(root='.', split='trainval', target_types='category', download=True, transform=test_transform)\n",
        "test_dataset = torchvision.datasets.OxfordIIITPet(root='.', split='test', target_types='category', download=True, transform=test_transform)\n",
        "\n",
        "print(\"dataset sizes:\", len(train_dataset), len(test_dataset))\n",
        "\n",
        "print(train_dataset.classes)"
      ]
    },
    {
      "cell_type": "code",
      "execution_count": null,
      "metadata": {
        "tags": [],
        "id": "8WNb53fuOEUF"
      },
      "outputs": [],
      "source": [
        "# create dataloaders to repack the datasets' data into batches\n",
        "# read more\n",
        "\n",
        "batch_size = 64\n",
        "train_dataloader = torch.utils.data.DataLoader(train_dataset, batch_size=batch_size, shuffle=True)\n",
        "test_dataloader = torch.utils.data.DataLoader(test_dataset, batch_size=batch_size, shuffle=False)\n",
        "print(\"dataloader sizes:\", len(train_dataloader), len(test_dataloader))"
      ]
    },
    {
      "cell_type": "code",
      "execution_count": null,
      "metadata": {
        "tags": [],
        "id": "AW8MYydSOEUF"
      },
      "outputs": [],
      "source": [
        "# Showing sample pets images\n",
        "for x_batch, y_batch in train_dataloader:\n",
        "    break  # Only get data from the 1st batch for now\n",
        "\n",
        "fig, axs = plt.subplots(2, 8, figsize=(16, 4))\n",
        "for i, ax in enumerate(axs.ravel()):\n",
        "    img_ = x_batch[i].permute(1, 2, 0) # restoring dimensions order\n",
        "    img_ -= img_.min().item()  # normalizing image to 0..1\n",
        "    img_ /= img_.max().item()\n",
        "    ax.imshow(img_)\n",
        "    label = train_dataset.classes[y_batch[i]]\n",
        "    ax.set_title(f\"{label}\")\n",
        "    ax.tick_params(left=False, labelleft=False, labelbottom=False, bottom=False)\n",
        "plt.tight_layout()"
      ]
    },
    {
      "cell_type": "markdown",
      "metadata": {
        "id": "4Y9931laOEUF"
      },
      "source": [
        "Remember that Imagenet includes quite a few cat and dog breeds among its classes.\n",
        "\n",
        "Let's try to predcit breeds with Imagenet-pretrained model without finetuning first"
      ]
    },
    {
      "cell_type": "code",
      "execution_count": null,
      "metadata": {
        "tags": [],
        "id": "WXw-xP3MOEUF"
      },
      "outputs": [],
      "source": [
        "# Predicting breeds with Imagenet-pretrained model\n",
        "Y_probs, Y_true = [], []\n",
        "for x_batch, y_batch in tqdm(test_dataloader):\n",
        "    with torch.no_grad():\n",
        "        prediction = model(x_batch.to(device))\n",
        "        probs = torch.nn.functional.softmax(prediction, dim=-1).cpu()\n",
        "        Y_true.append(y_batch)\n",
        "        Y_probs.append(probs)\n",
        "\n",
        "Y_probs = torch.cat(Y_probs, axis=0)  # tensor with class probabilities\n",
        "Y_true = torch.cat(Y_true)\n",
        "Y_true.shape, Y_probs.shape"
      ]
    },
    {
      "cell_type": "code",
      "execution_count": null,
      "metadata": {
        "tags": [],
        "id": "1qlvZcXBOEUF"
      },
      "outputs": [],
      "source": [
        "# Output top 3 predictions for each class using pretrained CNN (no finetuning)\n",
        "# Expect to see high accuracy (70-80%) in some classes, much lower overal, mismatch in label spaces.\n",
        "\n",
        "results_list = {}\n",
        "\n",
        "for i, cl in enumerate(test_dataset.classes):\n",
        "    class_stats = {\"true_label\":cl}\n",
        "    probs1 = Y_probs[np.where(Y_true == i)].mean(axis=0).numpy()\n",
        "    top_ix = probs1.argsort()[-1:][::-1]\n",
        "    class_stats\n",
        "    for j, l in enumerate(top_ix):\n",
        "        class_stats = {f\"pred_1\": imagenet_labels[l],\n",
        "                    f\"prob_{1}\": probs1.ravel()[l]}\n",
        "    results_list[cl] = class_stats\n",
        "\n",
        "df = pd.DataFrame(results_list).T.sort_values('prob_1', ascending=False)\n",
        "float_cols = ['prob_1']\n",
        "df.style.format('{:.2%}', subset=float_cols)"
      ]
    },
    {
      "cell_type": "markdown",
      "metadata": {
        "id": "0FxCBLpaOEUF"
      },
      "source": [
        "### Finetuning CNN: classification layer only:\n",
        "\n",
        "__Task 2: (3 points)__:<br>\n",
        "Complete the code below and reach at least 85% accuracy by training only the classification layer:"
      ]
    },
    {
      "cell_type": "code",
      "execution_count": null,
      "metadata": {
        "tags": [],
        "id": "p-Q1saGZOEUG"
      },
      "outputs": [],
      "source": [
        "ft_model = deepcopy(model).to(device)\n",
        "for param in ft_model.parameters():\n",
        "    param.requires_grad = False\n",
        "\n",
        "ft_model.fc = torch.nn.LazyLinear(len(train_dataset.classes), device=device) # instead of classifier head - do nothing\n",
        "\n",
        "# your task:\n",
        "# 1) freeze all model parameters\n",
        "# 2) replace model.fc with a new linear layer that has the appropriate number of outputs\n",
        "\n",
        "assert all(not p.requires_grad for p in ft_model.parameters() if p not in set(ft_model.fc.parameters()))\n",
        "assert ft_model.fc.out_features == len(train_dataset.classes)\n",
        "#assert ft_model.fc.weight.device == device, f\"ft_model.fc must be on {device}\"\n",
        "assert ft_model.fc.weight.requires_grad\n",
        "\n",
        "criterion = torch.nn.CrossEntropyLoss()\n",
        "optimizer = torch.optim.Adam(ft_model.parameters(), lr=0.001)"
      ]
    },
    {
      "cell_type": "code",
      "execution_count": null,
      "metadata": {
        "tags": [],
        "id": "K_rUNZRyOEUG"
      },
      "outputs": [],
      "source": [
        "# train the finetuning model in a standard training loop.\n",
        "\n",
        "num_epochs = 10  # Adjust number of epochs if needed\n",
        "\n",
        "history = defaultdict(list)\n",
        "for epoch in range(num_epochs):\n",
        "    start_time = time.time()\n",
        "\n",
        "    ft_model.train()\n",
        "    train_losses = []\n",
        "    pbar = tqdm(train_dataloader, leave=False)\n",
        "    for x_batch, y_batch in pbar:\n",
        "\n",
        "        # calculate model predictions, calculate loss, make optimizer step\n",
        "        prediction = ft_model.forward(x_batch.to(device))\n",
        "        loss = criterion(prediction, y_batch.to(device))\n",
        "        optimizer.zero_grad()\n",
        "        loss.backward()\n",
        "        optimizer.step()\n",
        "\n",
        "        train_losses.append(loss.item())\n",
        "        pbar.desc = f\"Train. Ep:{epoch}, Loss:{np.mean(train_losses[-10:]):.5f}\"\n",
        "\n",
        "    ft_model.eval()\n",
        "    val_losses = []\n",
        "    val_cnt, val_correct = 0, 0\n",
        "    pbar = tqdm(test_dataloader, leave=False)\n",
        "    for x_batch, y_batch in pbar:\n",
        "\n",
        "        # get model predictions, measure loss, collect data for accuracy calc\n",
        "        with torch.no_grad():\n",
        "\n",
        "          y_pred = ft_model.forward(x_batch.to(device))\n",
        "          loss = criterion(y_pred, y_batch.to(device))\n",
        "\n",
        "        val_losses.append(loss.item())\n",
        "        val_cnt += y_batch.shape[0]\n",
        "        val_correct += (y_batch.cuda() == torch.argmax(y_pred, dim=1)).sum().item()\n",
        "        pbar.desc = f\"Valid. Ep:{epoch}, Loss:{np.mean(val_losses):.5f}\"\n",
        "\n",
        "    train_loss = np.mean(train_losses)\n",
        "    val_loss = np.mean(val_losses)\n",
        "    accuracy = val_correct / val_cnt\n",
        "    history['train_loss'].append(train_loss)\n",
        "    history['val_loss'].append(val_loss)\n",
        "    history['accuracy'].append(accuracy)\n",
        "    print(f\"Ep.{epoch:>2}: {train_loss=:.5f}  {val_loss=:.5f}  {accuracy=:.2%}  epoch_time={time.time() - start_time:.1f}s\")\n",
        "\n",
        "    if epoch > 2 and history['accuracy'][-1] < max(history['accuracy']):\n",
        "        break\n",
        "print(f\"Best Accuracy = {max(history['accuracy']):.2%}\")"
      ]
    },
    {
      "cell_type": "code",
      "execution_count": null,
      "metadata": {
        "id": "07awDnUdOEUG"
      },
      "outputs": [],
      "source": [
        "# This part of finetuning alone should deliver at least 85% accuracy.\n",
        "assert accuracy > 0.85"
      ]
    },
    {
      "cell_type": "code",
      "execution_count": null,
      "metadata": {
        "id": "_fG-28dsOEUG"
      },
      "outputs": [],
      "source": [
        "# Predicting breeds with finetuned model\n",
        "\n",
        "Y_probs, Y_true = [], []\n",
        "for x_batch, y_batch in tqdm(test_dataloader):\n",
        "    with torch.no_grad():\n",
        "        prediction = ft_model(x_batch.to(device))\n",
        "        probs = torch.nn.functional.softmax(prediction, dim=-1).cpu()\n",
        "        Y_true.append(y_batch)\n",
        "        Y_probs.append(probs)\n",
        "\n",
        "Y_probs = torch.cat(Y_probs, axis=0)\n",
        "Y_true = torch.cat(Y_true)\n",
        "Y_true.shape, Y_probs.shape"
      ]
    },
    {
      "cell_type": "code",
      "execution_count": null,
      "metadata": {
        "tags": [],
        "id": "45FHFsdnOEUG"
      },
      "outputs": [],
      "source": [
        "# Measure Top1 prediction accuracy for each class\n",
        "\n",
        "results_list = {}\n",
        "total, correct = 0, 0\n",
        "\n",
        "for i, cl in enumerate(test_dataset.classes):\n",
        "    class_preds = np.where(Y_true == i)\n",
        "    probs1 = Y_probs[class_preds].mean(axis=0).numpy()\n",
        "    acc1 = probs1[i]\n",
        "    class_stats = {\"true_label\":cl, 'acc1': acc1}\n",
        "    total += class_preds[0].shape[0]\n",
        "    correct += class_preds[0].shape[0] * acc1\n",
        "    results_list[cl] = acc1\n",
        "\n",
        "df = pd.Series(results_list).to_frame('acc1').sort_values('acc1', ascending=False)\n",
        "df.style.format('{:.2%}', subset=['acc1'])"
      ]
    },
    {
      "cell_type": "markdown",
      "metadata": {
        "id": "JP3Zx2sfOEUG"
      },
      "source": [
        "### Finetuning CNN: now unfreeze and train all layers:\n",
        "\n",
        "__task 3 (5 points)__: Based on the previous task, continue finetuning the model run by training all of its layers. Obtain at least 90% accuracy (macro average, as defined in the code).\n",
        "To reach 90%, you will need to experiment with network and/or training code, start from using improvements from the list below:\n",
        "\n",
        "Scoring:\n",
        "- reaching 90% accuracy - __3 points__\n",
        "- testing out all 4 of these improvements - __2 points__:\n",
        "    - Hyperparameters optimization\n",
        "    - Image augmentation\n",
        "    - Pretrained model selection\n",
        "    - Early stopping training at epoch with best metric and / or loading the weights of best epoch. [read about `state_dict`](https://pytorch.org/tutorials/beginner/saving_loading_models.html#what-is-a-state-dict)\n",
        "    \n",
        "(you may not necessarily get spectacular results right away. Experiment and describe your actions and findings in a brief report in this notebook.)\n",
        "- scoring above 90% -- __+1 BONUS point__ for every 1% improvement in accuracy above 90%\n",
        "\n",
        "__Guidelines__: to improve quality of the finetuned model we can now train all of its layers.\n",
        "- do this after initial training of classification layer\n",
        "- set learning rate to much lower level to avoid explosion\n",
        "- make all layers trainable using `requires_grad` param"
      ]
    },
    {
      "cell_type": "code",
      "execution_count": null,
      "metadata": {
        "tags": [],
        "id": "5j6nbVJVOEUG"
      },
      "outputs": [],
      "source": [
        "# Continue training with all layers involved\n",
        "\n",
        "for param in ft_model.parameters():\n",
        "    param.requires_grad = True\n",
        "\n",
        "assert all (p.requires_grad for p in ft_model.parameters())\n",
        "\n",
        "optimizer = torch.optim.Adam(ft_model.parameters(), lr=0.0003)  # reduce LR to avoid explosion"
      ]
    },
    {
      "cell_type": "code",
      "execution_count": null,
      "metadata": {
        "tags": [],
        "id": "ehhIfj-WOEUG"
      },
      "outputs": [],
      "source": [
        "num_epochs = 20  # Adjust number of epochs if needed\n",
        "\n",
        "history = defaultdict(list)\n",
        "for epoch in range(num_epochs):\n",
        "    start_time = time.time()\n",
        "\n",
        "    ft_model.train()\n",
        "    train_losses = []\n",
        "    pbar = tqdm(train_dataloader, leave=False)\n",
        "    for x_batch, y_batch in pbar:\n",
        "\n",
        "        # calculate model predictions, calculate loss, make optimizer step\n",
        "        prediction = ft_model.forward(x_batch.to(device))\n",
        "        loss = criterion(prediction, y_batch.to(device))\n",
        "        optimizer.zero_grad()\n",
        "        loss.backward()\n",
        "        optimizer.step()\n",
        "\n",
        "        train_losses.append(loss.item())\n",
        "        pbar.desc = f\"Train. Ep:{epoch}, Loss:{np.mean(train_losses[-10:]):.5f}\"\n",
        "\n",
        "    ft_model.eval()\n",
        "    val_losses = []\n",
        "    val_cnt, val_correct = 0, 0\n",
        "    pbar = tqdm(test_dataloader, leave=False)\n",
        "    for x_batch, y_batch in pbar:\n",
        "\n",
        "        # get model predictions, measure loss, collect data for accuracy calc\n",
        "        with torch.no_grad():\n",
        "\n",
        "          y_pred = ft_model.forward(x_batch.to(device))\n",
        "          loss = criterion(y_pred, y_batch.to(device))\n",
        "\n",
        "        val_losses.append(loss.item())\n",
        "        val_cnt += y_batch.shape[0]\n",
        "        val_correct += (y_batch.cuda() == torch.argmax(y_pred, dim=1)).sum().item()\n",
        "        pbar.desc = f\"Valid. Ep:{epoch}, Loss:{np.mean(val_losses):.5f}\"\n",
        "\n",
        "    train_loss = np.mean(train_losses)\n",
        "    val_loss = np.mean(val_losses)\n",
        "    accuracy = val_correct / val_cnt\n",
        "    history['train_loss'].append(train_loss)\n",
        "    history['val_loss'].append(val_loss)\n",
        "    history['accuracy'].append(accuracy)\n",
        "    print(f\"Ep.{epoch:>2}: {train_loss=:.5f}  {val_loss=:.5f}  {accuracy=:.2%}  epoch_time={time.time() - start_time:.1f}s\")\n",
        "\n",
        "    if epoch > 2 and history['accuracy'][-1] < max(history['accuracy']):\n",
        "        break\n",
        "print(f\"Best Accuracy = {max(history['accuracy']):.2%}\")"
      ]
    },
    {
      "cell_type": "code",
      "source": [
        "accuracy"
      ],
      "metadata": {
        "id": "MVA0gNUNyVKV"
      },
      "execution_count": null,
      "outputs": []
    },
    {
      "cell_type": "code",
      "source": [
        "optimizer = torch.optim.Adam(ft_model.parameters(), lr=0.00003)\n",
        "\n",
        "train_transform = transforms.Compose([\n",
        "    transforms.ColorJitter(brightness=0.2, contrast=0.2, saturation=0.2, hue=0.2),\n",
        "    transforms.RandomApply([\n",
        "        transforms.RandomAffine(degrees=30, translate=(0.2, 0.2)),\n",
        "        transforms.RandomRotation(30),\n",
        "        transforms.GaussianBlur(kernel_size=25),\n",
        "    ], p=0.5),\n",
        "    transforms.RandomHorizontalFlip(),\n",
        "    transforms.ToTensor(),\n",
        "    transforms.Resize((224, 224), antialias=True),\n",
        "    transforms.Normalize([0.485, 0.456, 0.406], [0.229, 0.224, 0.225])\n",
        "])\n",
        "\n",
        "train_dataset = torchvision.datasets.OxfordIIITPet(root='.', split='trainval', target_types='category', download=True, transform=train_transform)\n",
        "train_dataloader = torch.utils.data.DataLoader(train_dataset, batch_size=batch_size, shuffle=True)\n",
        "\n",
        "num_epochs = 20  # Adjust number of epochs if needed\n",
        "\n",
        "history = defaultdict(list)\n",
        "for epoch in range(num_epochs):\n",
        "    start_time = time.time()\n",
        "\n",
        "    ft_model.train()\n",
        "    train_losses = []\n",
        "    pbar = tqdm(train_dataloader, leave=False)\n",
        "    for x_batch, y_batch in pbar:\n",
        "\n",
        "        # calculate model predictions, calculate loss, make optimizer step\n",
        "        prediction = ft_model.forward(x_batch.to(device))\n",
        "        loss = criterion(prediction, y_batch.to(device))\n",
        "        optimizer.zero_grad()\n",
        "        loss.backward()\n",
        "        optimizer.step()\n",
        "\n",
        "        train_losses.append(loss.item())\n",
        "        pbar.desc = f\"Train. Ep:{epoch}, Loss:{np.mean(train_losses[-10:]):.5f}\"\n",
        "\n",
        "    ft_model.eval()\n",
        "    val_losses = []\n",
        "    val_cnt, val_correct = 0, 0\n",
        "    pbar = tqdm(test_dataloader, leave=False)\n",
        "    for x_batch, y_batch in pbar:\n",
        "\n",
        "        # get model predictions, measure loss, collect data for accuracy calc\n",
        "        with torch.no_grad():\n",
        "\n",
        "          y_pred = ft_model.forward(x_batch.to(device))\n",
        "          loss = criterion(y_pred, y_batch.to(device))\n",
        "\n",
        "        val_losses.append(loss.item())\n",
        "        val_cnt += y_batch.shape[0]\n",
        "        val_correct += (y_batch.cuda() == torch.argmax(y_pred, dim=1)).sum().item()\n",
        "        pbar.desc = f\"Valid. Ep:{epoch}, Loss:{np.mean(val_losses):.5f}\"\n",
        "\n",
        "    train_loss = np.mean(train_losses)\n",
        "    val_loss = np.mean(val_losses)\n",
        "    accuracy = val_correct / val_cnt\n",
        "    history['train_loss'].append(train_loss)\n",
        "    history['val_loss'].append(val_loss)\n",
        "    history['accuracy'].append(accuracy)\n",
        "    print(f\"Ep.{epoch:>2}: {train_loss=:.5f}  {val_loss=:.5f}  {accuracy=:.2%}  epoch_time={time.time() - start_time:.1f}s\")\n",
        "\n",
        "    if epoch > 2 and history['accuracy'][-1] < max(history['accuracy']):\n",
        "        break\n",
        "print(f\"Best Accuracy = {max(history['accuracy']):.2%}\")"
      ],
      "metadata": {
        "id": "HF7rBn5xzASD"
      },
      "execution_count": null,
      "outputs": []
    },
    {
      "cell_type": "code",
      "execution_count": null,
      "metadata": {
        "id": "7dQGkt_kOEUG",
        "collapsed": true
      },
      "outputs": [],
      "source": [
        "print(f\"Overall Accuracy = {correct / total:.2%}\")  # macro-averaged accuracy\n",
        "assert correct / total >= 0.9"
      ]
    },
    {
      "cell_type": "markdown",
      "metadata": {
        "id": "Ck2CzxhpOEUG"
      },
      "source": [
        "+# STUDENT'S REPORT\n",
        "\n",
        "Please write a short report describing the steps you took to improve quality. It should be at least a short paragraph with 3-5 sentences and, optionally, any relevant numbers/charts, but there's no upper limit.\n",
        "\n",
        "Here's what i did: `<YOUR TEXT>`"
      ]
    },
    {
      "cell_type": "markdown",
      "metadata": {
        "jp-MarkdownHeadingCollapsed": true,
        "tags": [],
        "id": "6YJHSbEZOEUG"
      },
      "source": [
        "# Bonus task __(optional. 2 more points)__:\n",
        "\n",
        "Notice that accuracy varies across breeds. Build confusion Propose improvements to the model finetuning process to improve minimal accuracy levels for all classes. Show the model runs.\n",
        "Measure the improvement in terms of minimal accuracy and micro-averaged accuracy."
      ]
    },
    {
      "cell_type": "markdown",
      "metadata": {
        "id": "CiGJncL0OEUG"
      },
      "source": [
        "# EXTRA STUFF:\n",
        "\n",
        "\n",
        "## Links:    \n",
        "- [The Building Blocks of Interpretability](https://distill.pub/2018/building-blocks/)\n",
        "- [Activations Atlas](https://distill.pub/2019/activation-atlas/)\n",
        "- more models from https://github.com/huggingface/pytorch-image-models\n",
        "- Papers with code: benchmarks and model references. https://paperswithcode.com/sota/image-classification-on-imagenet"
      ]
    }
  ],
  "metadata": {
    "kernelspec": {
      "display_name": "Python 3",
      "name": "python3"
    },
    "language_info": {
      "codemirror_mode": {
        "name": "ipython",
        "version": 3
      },
      "file_extension": ".py",
      "mimetype": "text/x-python",
      "name": "python",
      "nbconvert_exporter": "python",
      "pygments_lexer": "ipython3",
      "version": "3.11.5"
    },
    "colab": {
      "provenance": [],
      "gpuType": "T4"
    },
    "accelerator": "GPU"
  },
  "nbformat": 4,
  "nbformat_minor": 0
}